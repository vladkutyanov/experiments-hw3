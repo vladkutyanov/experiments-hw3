{
 "cells": [
  {
   "cell_type": "code",
   "execution_count": 1,
   "metadata": {},
   "outputs": [],
   "source": [
    "import pandas as pd\n",
    "import matplotlib.pyplot as plt\n",
    "import numpy as np\n",
    "import seaborn as sns\n",
    "import datetime\n",
    "import random\n",
    "from statsmodels.stats.power import tt_ind_solve_power\n",
    "\n",
    "def date_converter(x):\n",
    "    return datetime.datetime.strptime(x,'%Y-%m-%d')"
   ]
  },
  {
   "cell_type": "markdown",
   "metadata": {},
   "source": [
    "### Задание 3\n",
    "**Срок сдачи: 07 апреля 18:00**\n",
    "\n",
    "В этом задание вы будете работать с выручкой - метрикой с достаточно высокой дисперсией и соответсвенно низкой чувствительностью к изменениям.\n",
    "\n",
    "Вам предстоит разработать подход по повышению чувствительности этой метрики.\n",
    "От успеха данной инициативы зависит то, как быстро мы сможем проверять продуктовые гипотезы."
   ]
  },
  {
   "cell_type": "markdown",
   "metadata": {},
   "source": [
    "#### Для планирования эксперимента изучите данные и метрики 2 балла:\n",
    "\n",
    "- Загрузите файл и изучите данные;\n",
    "- Изучите основные статистики метрики: среднее, стандартное отклонение;\n",
    "- Изучите то, как эти статистики изменяются внутри срезов: user_segment, region, category\n",
    "\n",
    "#### Предскажите минимально детектируемый эффект (MDE) 2 балла:\n",
    "\n",
    "- Для размеров тестовых групп 10,25,50% и длительностей 30, 60, 90 дней предскажите минимально детектируемый эффект;\n",
    "\n",
    "\n",
    "#### CUPED 6 баллов\n",
    "Разработайте подход по снижению дисперсии на основе методики CUPED:\n",
    "\n",
    "- Рассчитайте CUPED метрику на основе данных за периода в 30 дней перед предполагаемым периодом сбора основной выборки и опишите как изменился MDE для выборок 50/50%, собранных за 30 дней (2 бала). \n",
    "- Проверьте насколько данный подход подвержен сезональности. Как меняется MDE, если применять данный подход в разные периоды (2 бала). \n",
    "- Оптимизируйте подход варьируя количество дней до теста, которые вы будете для расчёта CUPED метрики. Какое максимальное снижение MDE вы смогли достичь (2 бала).\n",
    "\n",
    "\n",
    "\n",
    "#### * Стратификация 4 балла (задание для получения дополнительных баллов)\n",
    "Разработайте подход по снижению дисперсии на основе методики стратификации выборок:\n",
    "\n",
    "- Стратифицируйте выборки внутри срезов user_segment, region, category\n",
    "- Рассчитайте стратифицированные среднее,стандартное отклонение для этих выборок и MDE для теста 50/50% длительностью 30 дней.\n",
    "- В каких срезах достигается наибольшее снижение MDE?\n",
    "\n"
   ]
  },
  {
   "cell_type": "markdown",
   "metadata": {},
   "source": [
    "#### Описание данныx\n",
    "\n",
    "event_date - дата \n",
    "\n",
    "user_id - идентификатор пользователя\n",
    "\n",
    "user_segment - сегмент пользователей\n",
    "\n",
    "region - регион\n",
    "\n",
    "category - категория авито\n",
    "\n",
    "revenue_amount - сумма покупок\n"
   ]
  },
  {
   "cell_type": "code",
   "execution_count": 2,
   "metadata": {},
   "outputs": [],
   "source": [
    "df = pd.read_csv('user_amount_var_reduction.csv')\n",
    "df['event_date']=df.event_date.apply(date_converter)"
   ]
  },
  {
   "cell_type": "code",
   "execution_count": 3,
   "metadata": {},
   "outputs": [
    {
     "data": {
      "text/html": [
       "<div>\n",
       "<style scoped>\n",
       "    .dataframe tbody tr th:only-of-type {\n",
       "        vertical-align: middle;\n",
       "    }\n",
       "\n",
       "    .dataframe tbody tr th {\n",
       "        vertical-align: top;\n",
       "    }\n",
       "\n",
       "    .dataframe thead th {\n",
       "        text-align: right;\n",
       "    }\n",
       "</style>\n",
       "<table border=\"1\" class=\"dataframe\">\n",
       "  <thead>\n",
       "    <tr style=\"text-align: right;\">\n",
       "      <th></th>\n",
       "      <th>event_date</th>\n",
       "      <th>user_id</th>\n",
       "      <th>user_segment</th>\n",
       "      <th>category</th>\n",
       "      <th>region</th>\n",
       "      <th>revenue_amount</th>\n",
       "    </tr>\n",
       "  </thead>\n",
       "  <tbody>\n",
       "    <tr>\n",
       "      <th>0</th>\n",
       "      <td>2019-06-18</td>\n",
       "      <td>4129257975403696</td>\n",
       "      <td>4626944681007198896</td>\n",
       "      <td>7204754148424990691</td>\n",
       "      <td>2201388710798473628</td>\n",
       "      <td>139</td>\n",
       "    </tr>\n",
       "    <tr>\n",
       "      <th>1</th>\n",
       "      <td>2019-06-18</td>\n",
       "      <td>7225254357470025</td>\n",
       "      <td>4626944681007198896</td>\n",
       "      <td>57514010642945023</td>\n",
       "      <td>3048517866726460689</td>\n",
       "      <td>193</td>\n",
       "    </tr>\n",
       "    <tr>\n",
       "      <th>2</th>\n",
       "      <td>2019-06-18</td>\n",
       "      <td>8912846500600569</td>\n",
       "      <td>4626944681007198896</td>\n",
       "      <td>5983323600580891431</td>\n",
       "      <td>3048517866726460689</td>\n",
       "      <td>160</td>\n",
       "    </tr>\n",
       "    <tr>\n",
       "      <th>3</th>\n",
       "      <td>2019-06-18</td>\n",
       "      <td>20910801279823046</td>\n",
       "      <td>4626944681007198896</td>\n",
       "      <td>6847326422676498281</td>\n",
       "      <td>7762196236856042106</td>\n",
       "      <td>209</td>\n",
       "    </tr>\n",
       "    <tr>\n",
       "      <th>4</th>\n",
       "      <td>2019-06-18</td>\n",
       "      <td>34873300821657220</td>\n",
       "      <td>2376074197230840906</td>\n",
       "      <td>3187769798308634693</td>\n",
       "      <td>3855810523611026650</td>\n",
       "      <td>160</td>\n",
       "    </tr>\n",
       "    <tr>\n",
       "      <th>...</th>\n",
       "      <td>...</td>\n",
       "      <td>...</td>\n",
       "      <td>...</td>\n",
       "      <td>...</td>\n",
       "      <td>...</td>\n",
       "      <td>...</td>\n",
       "    </tr>\n",
       "    <tr>\n",
       "      <th>8625837</th>\n",
       "      <td>2019-12-08</td>\n",
       "      <td>9170823997728769058</td>\n",
       "      <td>2376074197230840906</td>\n",
       "      <td>4658595883120885993</td>\n",
       "      <td>3855810523611026650</td>\n",
       "      <td>133</td>\n",
       "    </tr>\n",
       "    <tr>\n",
       "      <th>8625838</th>\n",
       "      <td>2019-12-08</td>\n",
       "      <td>9178869387857307556</td>\n",
       "      <td>4626944681007198896</td>\n",
       "      <td>1472231361867825698</td>\n",
       "      <td>3048517866726460689</td>\n",
       "      <td>63</td>\n",
       "    </tr>\n",
       "    <tr>\n",
       "      <th>8625839</th>\n",
       "      <td>2019-12-08</td>\n",
       "      <td>9186690404771258365</td>\n",
       "      <td>2376074197230840906</td>\n",
       "      <td>4546178272531746227</td>\n",
       "      <td>8867014108346120905</td>\n",
       "      <td>168</td>\n",
       "    </tr>\n",
       "    <tr>\n",
       "      <th>8625840</th>\n",
       "      <td>2019-12-08</td>\n",
       "      <td>9195678548159495844</td>\n",
       "      <td>2376074197230840906</td>\n",
       "      <td>5983323600580891431</td>\n",
       "      <td>1187552825302355021</td>\n",
       "      <td>118</td>\n",
       "    </tr>\n",
       "    <tr>\n",
       "      <th>8625841</th>\n",
       "      <td>2019-12-08</td>\n",
       "      <td>9203791365722213789</td>\n",
       "      <td>4626944681007198896</td>\n",
       "      <td>6864443610550051939</td>\n",
       "      <td>3048517866726460689</td>\n",
       "      <td>39</td>\n",
       "    </tr>\n",
       "  </tbody>\n",
       "</table>\n",
       "<p>8625842 rows × 6 columns</p>\n",
       "</div>"
      ],
      "text/plain": [
       "        event_date              user_id         user_segment  \\\n",
       "0       2019-06-18     4129257975403696  4626944681007198896   \n",
       "1       2019-06-18     7225254357470025  4626944681007198896   \n",
       "2       2019-06-18     8912846500600569  4626944681007198896   \n",
       "3       2019-06-18    20910801279823046  4626944681007198896   \n",
       "4       2019-06-18    34873300821657220  2376074197230840906   \n",
       "...            ...                  ...                  ...   \n",
       "8625837 2019-12-08  9170823997728769058  2376074197230840906   \n",
       "8625838 2019-12-08  9178869387857307556  4626944681007198896   \n",
       "8625839 2019-12-08  9186690404771258365  2376074197230840906   \n",
       "8625840 2019-12-08  9195678548159495844  2376074197230840906   \n",
       "8625841 2019-12-08  9203791365722213789  4626944681007198896   \n",
       "\n",
       "                    category               region  revenue_amount  \n",
       "0        7204754148424990691  2201388710798473628             139  \n",
       "1          57514010642945023  3048517866726460689             193  \n",
       "2        5983323600580891431  3048517866726460689             160  \n",
       "3        6847326422676498281  7762196236856042106             209  \n",
       "4        3187769798308634693  3855810523611026650             160  \n",
       "...                      ...                  ...             ...  \n",
       "8625837  4658595883120885993  3855810523611026650             133  \n",
       "8625838  1472231361867825698  3048517866726460689              63  \n",
       "8625839  4546178272531746227  8867014108346120905             168  \n",
       "8625840  5983323600580891431  1187552825302355021             118  \n",
       "8625841  6864443610550051939  3048517866726460689              39  \n",
       "\n",
       "[8625842 rows x 6 columns]"
      ]
     },
     "execution_count": 3,
     "metadata": {},
     "output_type": "execute_result"
    }
   ],
   "source": [
    "df"
   ]
  },
  {
   "cell_type": "markdown",
   "metadata": {},
   "source": [
    "Посмотрим описательные статистики выручки у начального датасета и взятого по срезам."
   ]
  },
  {
   "cell_type": "code",
   "execution_count": 5,
   "metadata": {},
   "outputs": [
    {
     "data": {
      "text/plain": [
       "count    8.625842e+06\n",
       "mean     4.009047e+02\n",
       "std      9.602217e+02\n",
       "min      1.000000e+00\n",
       "25%      8.800000e+01\n",
       "50%      1.670000e+02\n",
       "75%      4.050000e+02\n",
       "max      2.881230e+05\n",
       "Name: revenue_amount, dtype: float64"
      ]
     },
     "execution_count": 5,
     "metadata": {},
     "output_type": "execute_result"
    }
   ],
   "source": [
    "df['revenue_amount'].describe()"
   ]
  },
  {
   "cell_type": "code",
   "execution_count": 17,
   "metadata": {},
   "outputs": [
    {
     "data": {
      "text/html": [
       "<div>\n",
       "<style scoped>\n",
       "    .dataframe tbody tr th:only-of-type {\n",
       "        vertical-align: middle;\n",
       "    }\n",
       "\n",
       "    .dataframe tbody tr th {\n",
       "        vertical-align: top;\n",
       "    }\n",
       "\n",
       "    .dataframe thead th {\n",
       "        text-align: right;\n",
       "    }\n",
       "</style>\n",
       "<table border=\"1\" class=\"dataframe\">\n",
       "  <thead>\n",
       "    <tr style=\"text-align: right;\">\n",
       "      <th></th>\n",
       "      <th>revenue_amount</th>\n",
       "    </tr>\n",
       "  </thead>\n",
       "  <tbody>\n",
       "    <tr>\n",
       "      <th>count</th>\n",
       "      <td>3.000000</td>\n",
       "    </tr>\n",
       "    <tr>\n",
       "      <th>mean</th>\n",
       "      <td>567.902144</td>\n",
       "    </tr>\n",
       "    <tr>\n",
       "      <th>std</th>\n",
       "      <td>466.090091</td>\n",
       "    </tr>\n",
       "    <tr>\n",
       "      <th>min</th>\n",
       "      <td>207.760172</td>\n",
       "    </tr>\n",
       "    <tr>\n",
       "      <th>25%</th>\n",
       "      <td>304.688064</td>\n",
       "    </tr>\n",
       "    <tr>\n",
       "      <th>50%</th>\n",
       "      <td>401.615956</td>\n",
       "    </tr>\n",
       "    <tr>\n",
       "      <th>75%</th>\n",
       "      <td>747.973130</td>\n",
       "    </tr>\n",
       "    <tr>\n",
       "      <th>max</th>\n",
       "      <td>1094.330305</td>\n",
       "    </tr>\n",
       "  </tbody>\n",
       "</table>\n",
       "</div>"
      ],
      "text/plain": [
       "       revenue_amount\n",
       "count        3.000000\n",
       "mean       567.902144\n",
       "std        466.090091\n",
       "min        207.760172\n",
       "25%        304.688064\n",
       "50%        401.615956\n",
       "75%        747.973130\n",
       "max       1094.330305"
      ]
     },
     "execution_count": 17,
     "metadata": {},
     "output_type": "execute_result"
    }
   ],
   "source": [
    "df_seg = df.groupby(['user_segment']).agg({'revenue_amount': 'mean'}) #агрегируем по сегменту\n",
    "df_seg.describe()"
   ]
  },
  {
   "cell_type": "code",
   "execution_count": 20,
   "metadata": {},
   "outputs": [
    {
     "data": {
      "text/plain": [
       "[(100.0, 1200.0)]"
      ]
     },
     "execution_count": 20,
     "metadata": {},
     "output_type": "execute_result"
    },
    {
     "data": {
      "image/png": "[encoded data removed]",
      "text/plain": [
       "<Figure size 432x288 with 1 Axes>"
      ]
     },
     "metadata": {
      "needs_background": "light"
     },
     "output_type": "display_data"
    }
   ],
   "source": [
    "ax = sns.boxplot(y = df_seg['revenue_amount'], orient = 'v')\n",
    "ax.set(ylim = (100,1200))"
   ]
  },
  {
   "cell_type": "code",
   "execution_count": 18,
   "metadata": {},
   "outputs": [
    {
     "data": {
      "text/html": [
       "<div>\n",
       "<style scoped>\n",
       "    .dataframe tbody tr th:only-of-type {\n",
       "        vertical-align: middle;\n",
       "    }\n",
       "\n",
       "    .dataframe tbody tr th {\n",
       "        vertical-align: top;\n",
       "    }\n",
       "\n",
       "    .dataframe thead th {\n",
       "        text-align: right;\n",
       "    }\n",
       "</style>\n",
       "<table border=\"1\" class=\"dataframe\">\n",
       "  <thead>\n",
       "    <tr style=\"text-align: right;\">\n",
       "      <th></th>\n",
       "      <th>revenue_amount</th>\n",
       "    </tr>\n",
       "  </thead>\n",
       "  <tbody>\n",
       "    <tr>\n",
       "      <th>count</th>\n",
       "      <td>33.000000</td>\n",
       "    </tr>\n",
       "    <tr>\n",
       "      <th>mean</th>\n",
       "      <td>427.308587</td>\n",
       "    </tr>\n",
       "    <tr>\n",
       "      <th>std</th>\n",
       "      <td>336.174781</td>\n",
       "    </tr>\n",
       "    <tr>\n",
       "      <th>min</th>\n",
       "      <td>136.595029</td>\n",
       "    </tr>\n",
       "    <tr>\n",
       "      <th>25%</th>\n",
       "      <td>233.014721</td>\n",
       "    </tr>\n",
       "    <tr>\n",
       "      <th>50%</th>\n",
       "      <td>352.174948</td>\n",
       "    </tr>\n",
       "    <tr>\n",
       "      <th>75%</th>\n",
       "      <td>497.431001</td>\n",
       "    </tr>\n",
       "    <tr>\n",
       "      <th>max</th>\n",
       "      <td>1955.979431</td>\n",
       "    </tr>\n",
       "  </tbody>\n",
       "</table>\n",
       "</div>"
      ],
      "text/plain": [
       "       revenue_amount\n",
       "count       33.000000\n",
       "mean       427.308587\n",
       "std        336.174781\n",
       "min        136.595029\n",
       "25%        233.014721\n",
       "50%        352.174948\n",
       "75%        497.431001\n",
       "max       1955.979431"
      ]
     },
     "execution_count": 18,
     "metadata": {},
     "output_type": "execute_result"
    }
   ],
   "source": [
    "df_cat = df.groupby(['category']).agg({'revenue_amount': 'mean'}) #агрегируем по категории\n",
    "df_cat.describe()"
   ]
  },
  {
   "cell_type": "code",
   "execution_count": 22,
   "metadata": {},
   "outputs": [
    {
     "data": {
      "text/plain": [
       "[(100.0, 2000.0)]"
      ]
     },
     "execution_count": 22,
     "metadata": {},
     "output_type": "execute_result"
    },
    {
     "data": {
      "image/png": "[encoded data removed]",
      "text/plain": [
       "<Figure size 432x288 with 1 Axes>"
      ]
     },
     "metadata": {
      "needs_background": "light"
     },
     "output_type": "display_data"
    }
   ],
   "source": [
    "ax = sns.boxplot(y = df_cat['revenue_amount'], orient = 'v')\n",
    "ax.set(ylim = (100,2000))"
   ]
  },
  {
   "cell_type": "code",
   "execution_count": 19,
   "metadata": {},
   "outputs": [
    {
     "data": {
      "text/html": [
       "<div>\n",
       "<style scoped>\n",
       "    .dataframe tbody tr th:only-of-type {\n",
       "        vertical-align: middle;\n",
       "    }\n",
       "\n",
       "    .dataframe tbody tr th {\n",
       "        vertical-align: top;\n",
       "    }\n",
       "\n",
       "    .dataframe thead th {\n",
       "        text-align: right;\n",
       "    }\n",
       "</style>\n",
       "<table border=\"1\" class=\"dataframe\">\n",
       "  <thead>\n",
       "    <tr style=\"text-align: right;\">\n",
       "      <th></th>\n",
       "      <th>revenue_amount</th>\n",
       "    </tr>\n",
       "  </thead>\n",
       "  <tbody>\n",
       "    <tr>\n",
       "      <th>count</th>\n",
       "      <td>84.000000</td>\n",
       "    </tr>\n",
       "    <tr>\n",
       "      <th>mean</th>\n",
       "      <td>299.283940</td>\n",
       "    </tr>\n",
       "    <tr>\n",
       "      <th>std</th>\n",
       "      <td>94.141554</td>\n",
       "    </tr>\n",
       "    <tr>\n",
       "      <th>min</th>\n",
       "      <td>182.157253</td>\n",
       "    </tr>\n",
       "    <tr>\n",
       "      <th>25%</th>\n",
       "      <td>237.126174</td>\n",
       "    </tr>\n",
       "    <tr>\n",
       "      <th>50%</th>\n",
       "      <td>282.286679</td>\n",
       "    </tr>\n",
       "    <tr>\n",
       "      <th>75%</th>\n",
       "      <td>336.866921</td>\n",
       "    </tr>\n",
       "    <tr>\n",
       "      <th>max</th>\n",
       "      <td>709.130762</td>\n",
       "    </tr>\n",
       "  </tbody>\n",
       "</table>\n",
       "</div>"
      ],
      "text/plain": [
       "       revenue_amount\n",
       "count       84.000000\n",
       "mean       299.283940\n",
       "std         94.141554\n",
       "min        182.157253\n",
       "25%        237.126174\n",
       "50%        282.286679\n",
       "75%        336.866921\n",
       "max        709.130762"
      ]
     },
     "execution_count": 19,
     "metadata": {},
     "output_type": "execute_result"
    }
   ],
   "source": [
    "df_reg = df.groupby(['region']).agg({'revenue_amount': 'mean'}) #агрегируем по региону\n",
    "df_reg.describe()"
   ]
  },
  {
   "cell_type": "code",
   "execution_count": 24,
   "metadata": {},
   "outputs": [
    {
     "data": {
      "text/plain": [
       "[(100.0, 800.0)]"
      ]
     },
     "execution_count": 24,
     "metadata": {},
     "output_type": "execute_result"
    },
    {
     "data": {
      "image/png": "[encoded data removed]",
      "text/plain": [
       "<Figure size 432x288 with 1 Axes>"
      ]
     },
     "metadata": {
      "needs_background": "light"
     },
     "output_type": "display_data"
    }
   ],
   "source": [
    "ax = sns.boxplot(y = df_reg['revenue_amount'], orient = 'v')\n",
    "ax.set(ylim = (100,800))"
   ]
  },
  {
   "cell_type": "markdown",
   "metadata": {},
   "source": [
    "Посчитаем MDE для групп 10, 25 и 50% за 30, 60 и 90 дней."
   ]
  },
  {
   "cell_type": "code",
   "execution_count": 28,
   "metadata": {},
   "outputs": [],
   "source": [
    "def choose_date(data, start_date, delta, share): \n",
    "    tmp = data[(data.event_date>=start_date)&(data.event_date<=start_date+datetime.timedelta(days=delta))]\n",
    "    tmp=tmp.groupby(['user_id']).sum().reset_index()\n",
    "    x = tmp[(tmp.user_id)%100<=100*share].reset_index()\n",
    "    return x"
   ]
  },
  {
   "cell_type": "code",
   "execution_count": 44,
   "metadata": {},
   "outputs": [
    {
     "name": "stdout",
     "output_type": "stream",
     "text": [
      "0.9984348222717511\n"
     ]
    }
   ],
   "source": [
    "x1 =choose_date(df, datetime.datetime(2019, 6, 18, 0, 0),30,10) #получаем необходимую подвыборку, берем 10% пользователей на 30 дней\n",
    "\n",
    "\n",
    "mean = x1.revenue_amount.mean()\n",
    "std = x1.revenue_amount.std()\n",
    " \n",
    "alpha = 0.01\n",
    "power = 0.8\n",
    "result_effect = 0.0378 #точность без CUPED ~ 0.0378\n",
    "effect_size = (mean /std) * result_effect\n",
    " \n",
    "    \n",
    "sample_vol = tt_ind_solve_power(effect_size=effect_size, alpha=alpha, power=power, nobs1=None, ratio=1, alternative = 'two-sided')    \n",
    "print(sample_vol/x1.shape[0])"
   ]
  },
  {
   "cell_type": "code",
   "execution_count": 51,
   "metadata": {},
   "outputs": [
    {
     "name": "stdout",
     "output_type": "stream",
     "text": [
      "0.9951646897591964\n"
     ]
    }
   ],
   "source": [
    "x1 =choose_date(df, datetime.datetime(2019, 6, 18, 0, 0),60,10) #получаем необходимую подвыборку, берем 10% пользователей на 60 дней\n",
    "\n",
    "\n",
    "mean = x1.revenue_amount.mean()\n",
    "std = x1.revenue_amount.std()\n",
    " \n",
    "alpha = 0.01\n",
    "power = 0.8\n",
    "result_effect = 0.0372 #точность без CUPED ~ 0.0372\n",
    "effect_size = (mean /std) * result_effect\n",
    " \n",
    "    \n",
    "sample_vol = tt_ind_solve_power(effect_size=effect_size, alpha=alpha, power=power, nobs1=None, ratio=1, alternative = 'two-sided')    \n",
    "print(sample_vol/x1.shape[0])"
   ]
  },
  {
   "cell_type": "code",
   "execution_count": 56,
   "metadata": {},
   "outputs": [
    {
     "name": "stdout",
     "output_type": "stream",
     "text": [
      "0.9970594028073315\n"
     ]
    }
   ],
   "source": [
    "x1 =choose_date(df, datetime.datetime(2019, 6, 18, 0, 0),90,10) #получаем необходимую подвыборку, берем 10% пользователей на 90 дней\n",
    "\n",
    "\n",
    "mean = x1.revenue_amount.mean()\n",
    "std = x1.revenue_amount.std()\n",
    " \n",
    "alpha = 0.01\n",
    "power = 0.8\n",
    "result_effect = 0.0372 #точность без CUPED ~ 0.0372\n",
    "effect_size = (mean /std) * result_effect\n",
    " \n",
    "    \n",
    "sample_vol = tt_ind_solve_power(effect_size=effect_size, alpha=alpha, power=power, nobs1=None, ratio=1, alternative = 'two-sided')    \n",
    "print(sample_vol/x1.shape[0])"
   ]
  },
  {
   "cell_type": "code",
   "execution_count": 62,
   "metadata": {},
   "outputs": [
    {
     "name": "stdout",
     "output_type": "stream",
     "text": [
      "0.9984348222717511\n"
     ]
    }
   ],
   "source": [
    "x1 =choose_date(df, datetime.datetime(2019, 6, 18, 0, 0),30,25) #получаем необходимую подвыборку, берем 25% пользователей на 30 дней\n",
    "\n",
    "\n",
    "mean = x1.revenue_amount.mean()\n",
    "std = x1.revenue_amount.std()\n",
    " \n",
    "alpha = 0.01\n",
    "power = 0.8\n",
    "result_effect = 0.0378 #точность без CUPED ~ 0.0378\n",
    "effect_size = (mean /std) * result_effect\n",
    " \n",
    "    \n",
    "sample_vol = tt_ind_solve_power(effect_size=effect_size, alpha=alpha, power=power, nobs1=None, ratio=1, alternative = 'two-sided')    \n",
    "print(sample_vol/x1.shape[0])"
   ]
  },
  {
   "cell_type": "code",
   "execution_count": 65,
   "metadata": {},
   "outputs": [
    {
     "name": "stdout",
     "output_type": "stream",
     "text": [
      "0.9951646897591964\n"
     ]
    }
   ],
   "source": [
    "x1 =choose_date(df, datetime.datetime(2019, 6, 18, 0, 0),60,25) #получаем необходимую подвыборку, берем 25% пользователей на 60 дней\n",
    "\n",
    "\n",
    "mean = x1.revenue_amount.mean()\n",
    "std = x1.revenue_amount.std()\n",
    " \n",
    "alpha = 0.01\n",
    "power = 0.8\n",
    "result_effect = 0.0372 #точность без CUPED ~ 0.0372\n",
    "effect_size = (mean /std) * result_effect\n",
    " \n",
    "    \n",
    "sample_vol = tt_ind_solve_power(effect_size=effect_size, alpha=alpha, power=power, nobs1=None, ratio=1, alternative = 'two-sided')    \n",
    "print(sample_vol/x1.shape[0])"
   ]
  },
  {
   "cell_type": "code",
   "execution_count": 68,
   "metadata": {},
   "outputs": [
    {
     "name": "stdout",
     "output_type": "stream",
     "text": [
      "0.9951646897591964\n"
     ]
    }
   ],
   "source": [
    "x1 =choose_date(df, datetime.datetime(2019, 6, 18, 0, 0),60,25) #получаем необходимую подвыборку, берем 25% пользователей на 90 дней\n",
    "\n",
    "\n",
    "mean = x1.revenue_amount.mean()\n",
    "std = x1.revenue_amount.std()\n",
    " \n",
    "alpha = 0.01\n",
    "power = 0.8\n",
    "result_effect = 0.0372 #точность без CUPED ~ 0.0372\n",
    "effect_size = (mean /std) * result_effect\n",
    " \n",
    "    \n",
    "sample_vol = tt_ind_solve_power(effect_size=effect_size, alpha=alpha, power=power, nobs1=None, ratio=1, alternative = 'two-sided')    \n",
    "print(sample_vol/x1.shape[0])"
   ]
  },
  {
   "cell_type": "code",
   "execution_count": 72,
   "metadata": {},
   "outputs": [
    {
     "name": "stdout",
     "output_type": "stream",
     "text": [
      "0.9984348222717511\n"
     ]
    }
   ],
   "source": [
    "x1 =choose_date(df, datetime.datetime(2019, 6, 18, 0, 0),30,50) #получаем необходимую подвыборку, берем 50% пользователей на 30 дней\n",
    "\n",
    "\n",
    "mean = x1.revenue_amount.mean()\n",
    "std = x1.revenue_amount.std()\n",
    " \n",
    "alpha = 0.01\n",
    "power = 0.8\n",
    "result_effect = 0.0378 #точность без CUPED ~ 0.0378\n",
    "effect_size = (mean /std) * result_effect\n",
    " \n",
    "    \n",
    "sample_vol = tt_ind_solve_power(effect_size=effect_size, alpha=alpha, power=power, nobs1=None, ratio=1, alternative = 'two-sided')    \n",
    "print(sample_vol/x1.shape[0])"
   ]
  },
  {
   "cell_type": "code",
   "execution_count": 74,
   "metadata": {},
   "outputs": [
    {
     "name": "stdout",
     "output_type": "stream",
     "text": [
      "0.9951646897591964\n"
     ]
    }
   ],
   "source": [
    "x1 =choose_date(df, datetime.datetime(2019, 6, 18, 0, 0),60,50) #получаем необходимую подвыборку, берем 50% пользователей на 60 дней\n",
    "\n",
    "\n",
    "mean = x1.revenue_amount.mean()\n",
    "std = x1.revenue_amount.std()\n",
    " \n",
    "alpha = 0.01\n",
    "power = 0.8\n",
    "result_effect = 0.0372 #точность без CUPED ~ 0.0372\n",
    "effect_size = (mean /std) * result_effect\n",
    " \n",
    "    \n",
    "sample_vol = tt_ind_solve_power(effect_size=effect_size, alpha=alpha, power=power, nobs1=None, ratio=1, alternative = 'two-sided')    \n",
    "print(sample_vol/x1.shape[0])"
   ]
  },
  {
   "cell_type": "code",
   "execution_count": 76,
   "metadata": {},
   "outputs": [
    {
     "name": "stdout",
     "output_type": "stream",
     "text": [
      "0.9970594028073315\n"
     ]
    }
   ],
   "source": [
    "x1 =choose_date(df, datetime.datetime(2019, 6, 18, 0, 0),90,50) #получаем необходимую подвыборку, берем 50% пользователей на 90 дней\n",
    "\n",
    "\n",
    "mean = x1.revenue_amount.mean()\n",
    "std = x1.revenue_amount.std()\n",
    " \n",
    "alpha = 0.01\n",
    "power = 0.8\n",
    "result_effect = 0.0372 #точность без CUPED ~ 0.0372\n",
    "effect_size = (mean /std) * result_effect\n",
    " \n",
    "    \n",
    "sample_vol = tt_ind_solve_power(effect_size=effect_size, alpha=alpha, power=power, nobs1=None, ratio=1, alternative = 'two-sided')    \n",
    "print(sample_vol/x1.shape[0])"
   ]
  },
  {
   "cell_type": "markdown",
   "metadata": {},
   "source": [
    "Попробуем посмотреть на целевую метрику после применения CUPED и на изменение MDE для групп 50/50 на 30 дней."
   ]
  },
  {
   "cell_type": "code",
   "execution_count": 268,
   "metadata": {},
   "outputs": [],
   "source": [
    "#Предположим, что данные собирались месяц с начальной даты до 18 июля, эксперимент проводится на следующий день до 18 августа.\n",
    "\n",
    "df_pre = df[(df['event_date'] >= '2019-06-18') & (df['event_date'] < '2019-07-18')]\n",
    "df_exp = df[(df['event_date'] >= '2019-07-18') & (df['event_date'] < '2019-08-17')]"
   ]
  },
  {
   "cell_type": "code",
   "execution_count": 269,
   "metadata": {},
   "outputs": [],
   "source": [
    "df_all = pd.merge(df_exp, df_pre,  how='left', left_on=['user_id',df_exp['event_date'] - datetime.timedelta(days=30)], right_on=['user_id','event_date'])"
   ]
  },
  {
   "cell_type": "code",
   "execution_count": 270,
   "metadata": {},
   "outputs": [],
   "source": [
    "df_all = df_all.drop(['event_date', 'event_date_y', 'user_segment_y', 'category_y', 'region_y'], axis = 1)"
   ]
  },
  {
   "cell_type": "code",
   "execution_count": 271,
   "metadata": {},
   "outputs": [],
   "source": [
    "df_all['revenue_amount_y'] = df_all['revenue_amount_y'].fillna(0)"
   ]
  },
  {
   "cell_type": "code",
   "execution_count": 272,
   "metadata": {},
   "outputs": [],
   "source": [
    "df_all = df_all.drop_duplicates()"
   ]
  },
  {
   "cell_type": "code",
   "execution_count": 236,
   "metadata": {},
   "outputs": [
    {
     "name": "stderr",
     "output_type": "stream",
     "text": [
      "C:\\Users\\vladk\\AppData\\Local\\Temp/ipykernel_5324/905822839.py:1: SettingWithCopyWarning: \n",
      "A value is trying to be set on a copy of a slice from a DataFrame.\n",
      "Try using .loc[row_indexer,col_indexer] = value instead\n",
      "\n",
      "See the caveats in the documentation: https://pandas.pydata.org/pandas-docs/stable/user_guide/indexing.html#returning-a-view-versus-a-copy\n",
      "  df_all['pre_revenue_average'] = df_all.revenue_amount_y.mean() #среднее предданых\n"
     ]
    }
   ],
   "source": [
    "df_all['pre_revenue_average'] = df_all.revenue_amount_y.mean() #среднее предданых"
   ]
  },
  {
   "cell_type": "code",
   "execution_count": 238,
   "metadata": {},
   "outputs": [],
   "source": [
    "teta = np.cov(df_all.revenue_amount_x,df_all.revenue_amount_y, ddof=1)[1,0]/np.var(df_all.revenue_amount_y, ddof=1) #Множитель CUPED"
   ]
  },
  {
   "cell_type": "code",
   "execution_count": 239,
   "metadata": {},
   "outputs": [],
   "source": [
    "corr = np.corrcoef(df_all.revenue_amount_x,df_all.revenue_amount_y)[1,0]"
   ]
  },
  {
   "cell_type": "code",
   "execution_count": 240,
   "metadata": {},
   "outputs": [
    {
     "name": "stderr",
     "output_type": "stream",
     "text": [
      "C:\\Users\\vladk\\AppData\\Local\\Temp/ipykernel_5324/2338430526.py:1: SettingWithCopyWarning: \n",
      "A value is trying to be set on a copy of a slice from a DataFrame.\n",
      "Try using .loc[row_indexer,col_indexer] = value instead\n",
      "\n",
      "See the caveats in the documentation: https://pandas.pydata.org/pandas-docs/stable/user_guide/indexing.html#returning-a-view-versus-a-copy\n",
      "  df_all['cuped_revenue'] = df_all.revenue_amount_x - teta * (df_all.revenue_amount_y - df_all.pre_revenue_average) #CUPED-выручка\n"
     ]
    }
   ],
   "source": [
    "df_all['cuped_revenue'] = df_all.revenue_amount_x - teta * (df_all.revenue_amount_y - df_all.pre_revenue_average) #CUPED-выручка"
   ]
  },
  {
   "cell_type": "code",
   "execution_count": 253,
   "metadata": {},
   "outputs": [
    {
     "name": "stdout",
     "output_type": "stream",
     "text": [
      "0.9966382576300521\n"
     ]
    }
   ],
   "source": [
    "def choose_date(data, start_date, delta, share): \n",
    "    tmp = data[(data.event_date_x>=start_date)&(data.event_date_x<=start_date+datetime.timedelta(days=delta))]\n",
    "    tmp=tmp.groupby(['user_id']).sum().reset_index()\n",
    "    x = tmp[(tmp.user_id)%100<=100*share].reset_index()\n",
    "    return x\n",
    "\n",
    "\n",
    "\n",
    "x1 =choose_date(df_all, datetime.datetime(2019, 7, 19, 0, 0),30,50) #получаем необходимую подвыборку, берем 50% пользователей на 30 дней\n",
    "\n",
    "\n",
    "mean = x1.cuped_revenue.mean()\n",
    "std = x1.cuped_revenue.std()\n",
    " \n",
    "alpha = 0.01\n",
    "power = 0.8\n",
    "result_effect = 0.121 #точность с CUPED ~ 0.121\n",
    "effect_size = (mean /std) * result_effect\n",
    " \n",
    "    \n",
    "sample_vol = tt_ind_solve_power(effect_size=effect_size, alpha=alpha, power=power, nobs1=None, ratio=1, alternative = 'two-sided')    \n",
    "print(sample_vol/x1.shape[0])"
   ]
  },
  {
   "cell_type": "code",
   "execution_count": 140,
   "metadata": {},
   "outputs": [
    {
     "name": "stdout",
     "output_type": "stream",
     "text": [
      "0.9948237737605128\n"
     ]
    }
   ],
   "source": [
    "def choose_date(data, start_date, delta, share): \n",
    "    tmp = data[(data.event_date>=start_date)&(data.event_date<=start_date+datetime.timedelta(days=delta))]\n",
    "    tmp=tmp.groupby(['user_id']).sum().reset_index()\n",
    "    x = tmp[(tmp.user_id)%100<=100*share].reset_index()\n",
    "    return x\n",
    "\n",
    "\n",
    "x1 =choose_date(df, datetime.datetime(2019, 7, 19, 0, 0),30,50) #получаем необходимую подвыборку, берем 50% пользователей на 30 дней\n",
    "\n",
    "\n",
    "mean = x1.revenue_amount.mean()\n",
    "std = x1.revenue_amount.std()\n",
    " \n",
    "alpha = 0.01\n",
    "power = 0.8\n",
    "result_effect = 0.039 #точность без CUPED ~ 0.039\n",
    "effect_size = (mean /std) * result_effect\n",
    " \n",
    "    \n",
    "sample_vol = tt_ind_solve_power(effect_size=effect_size, alpha=alpha, power=power, nobs1=None, ratio=1, alternative = 'two-sided')    \n",
    "print(sample_vol/x1.shape[0])"
   ]
  },
  {
   "cell_type": "markdown",
   "metadata": {},
   "source": [
    "CUPED очень сильно снижает точность, возможно, что это вызвано сезонными эффектами."
   ]
  }
 ],
 "metadata": {
  "kernelspec": {
   "display_name": "Python 3 (ipykernel)",
   "language": "python",
   "name": "python3"
  },
  "language_info": {
   "codemirror_mode": {
    "name": "ipython",
    "version": 3
   },
   "file_extension": ".py",
   "mimetype": "text/x-python",
   "name": "python",
   "nbconvert_exporter": "python",
   "pygments_lexer": "ipython3",
   "version": "3.8.5"
  }
 },
 "nbformat": 4,
 "nbformat_minor": 4
}
